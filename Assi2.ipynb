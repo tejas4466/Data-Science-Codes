{
 "cells": [
  {
   "cell_type": "code",
   "execution_count": 51,
   "id": "c4cb4ddd-c672-479a-8253-bcb3e36f9f79",
   "metadata": {},
   "outputs": [],
   "source": [
    "import pandas as pd\n",
    "import numpy as np\n",
    "import matplotlib.pyplot as plt\n",
    "import seaborn as sns"
   ]
  },
  {
   "cell_type": "code",
   "execution_count": 52,
   "id": "e0e9cb73-6f25-47e0-85c5-c6be8c0fccc7",
   "metadata": {},
   "outputs": [
    {
     "data": {
      "text/html": [
       "<div>\n",
       "<style scoped>\n",
       "    .dataframe tbody tr th:only-of-type {\n",
       "        vertical-align: middle;\n",
       "    }\n",
       "\n",
       "    .dataframe tbody tr th {\n",
       "        vertical-align: top;\n",
       "    }\n",
       "\n",
       "    .dataframe thead th {\n",
       "        text-align: right;\n",
       "    }\n",
       "</style>\n",
       "<table border=\"1\" class=\"dataframe\">\n",
       "  <thead>\n",
       "    <tr style=\"text-align: right;\">\n",
       "      <th></th>\n",
       "      <th>x0</th>\n",
       "      <th>x1</th>\n",
       "      <th>x2</th>\n",
       "      <th>x3</th>\n",
       "      <th>x4</th>\n",
       "      <th>type</th>\n",
       "    </tr>\n",
       "  </thead>\n",
       "  <tbody>\n",
       "    <tr>\n",
       "      <th>0</th>\n",
       "      <td>1</td>\n",
       "      <td>5.1</td>\n",
       "      <td>3.5</td>\n",
       "      <td>1.4</td>\n",
       "      <td>0.2</td>\n",
       "      <td>Iris-setosa</td>\n",
       "    </tr>\n",
       "    <tr>\n",
       "      <th>1</th>\n",
       "      <td>1</td>\n",
       "      <td>4.9</td>\n",
       "      <td>3.0</td>\n",
       "      <td>1.4</td>\n",
       "      <td>0.2</td>\n",
       "      <td>Iris-setosa</td>\n",
       "    </tr>\n",
       "    <tr>\n",
       "      <th>2</th>\n",
       "      <td>1</td>\n",
       "      <td>4.7</td>\n",
       "      <td>3.2</td>\n",
       "      <td>1.3</td>\n",
       "      <td>0.2</td>\n",
       "      <td>Iris-setosa</td>\n",
       "    </tr>\n",
       "    <tr>\n",
       "      <th>3</th>\n",
       "      <td>1</td>\n",
       "      <td>4.6</td>\n",
       "      <td>3.1</td>\n",
       "      <td>1.5</td>\n",
       "      <td>0.2</td>\n",
       "      <td>Iris-setosa</td>\n",
       "    </tr>\n",
       "    <tr>\n",
       "      <th>4</th>\n",
       "      <td>1</td>\n",
       "      <td>5.0</td>\n",
       "      <td>3.6</td>\n",
       "      <td>1.4</td>\n",
       "      <td>0.2</td>\n",
       "      <td>Iris-setosa</td>\n",
       "    </tr>\n",
       "    <tr>\n",
       "      <th>...</th>\n",
       "      <td>...</td>\n",
       "      <td>...</td>\n",
       "      <td>...</td>\n",
       "      <td>...</td>\n",
       "      <td>...</td>\n",
       "      <td>...</td>\n",
       "    </tr>\n",
       "    <tr>\n",
       "      <th>145</th>\n",
       "      <td>1</td>\n",
       "      <td>6.7</td>\n",
       "      <td>3.0</td>\n",
       "      <td>5.2</td>\n",
       "      <td>2.3</td>\n",
       "      <td>Iris-virginica</td>\n",
       "    </tr>\n",
       "    <tr>\n",
       "      <th>146</th>\n",
       "      <td>1</td>\n",
       "      <td>6.3</td>\n",
       "      <td>2.5</td>\n",
       "      <td>5.0</td>\n",
       "      <td>1.9</td>\n",
       "      <td>Iris-virginica</td>\n",
       "    </tr>\n",
       "    <tr>\n",
       "      <th>147</th>\n",
       "      <td>1</td>\n",
       "      <td>6.5</td>\n",
       "      <td>3.0</td>\n",
       "      <td>5.2</td>\n",
       "      <td>2.0</td>\n",
       "      <td>Iris-virginica</td>\n",
       "    </tr>\n",
       "    <tr>\n",
       "      <th>148</th>\n",
       "      <td>1</td>\n",
       "      <td>6.2</td>\n",
       "      <td>3.4</td>\n",
       "      <td>5.4</td>\n",
       "      <td>2.3</td>\n",
       "      <td>Iris-virginica</td>\n",
       "    </tr>\n",
       "    <tr>\n",
       "      <th>149</th>\n",
       "      <td>1</td>\n",
       "      <td>5.9</td>\n",
       "      <td>3.0</td>\n",
       "      <td>5.1</td>\n",
       "      <td>1.8</td>\n",
       "      <td>Iris-virginica</td>\n",
       "    </tr>\n",
       "  </tbody>\n",
       "</table>\n",
       "<p>150 rows × 6 columns</p>\n",
       "</div>"
      ],
      "text/plain": [
       "     x0   x1   x2   x3   x4            type\n",
       "0     1  5.1  3.5  1.4  0.2     Iris-setosa\n",
       "1     1  4.9  3.0  1.4  0.2     Iris-setosa\n",
       "2     1  4.7  3.2  1.3  0.2     Iris-setosa\n",
       "3     1  4.6  3.1  1.5  0.2     Iris-setosa\n",
       "4     1  5.0  3.6  1.4  0.2     Iris-setosa\n",
       "..   ..  ...  ...  ...  ...             ...\n",
       "145   1  6.7  3.0  5.2  2.3  Iris-virginica\n",
       "146   1  6.3  2.5  5.0  1.9  Iris-virginica\n",
       "147   1  6.5  3.0  5.2  2.0  Iris-virginica\n",
       "148   1  6.2  3.4  5.4  2.3  Iris-virginica\n",
       "149   1  5.9  3.0  5.1  1.8  Iris-virginica\n",
       "\n",
       "[150 rows x 6 columns]"
      ]
     },
     "execution_count": 52,
     "metadata": {},
     "output_type": "execute_result"
    }
   ],
   "source": [
    "df=pd.read_csv(\"iris - iris.csv\")\n",
    "df"
   ]
  },
  {
   "cell_type": "code",
   "execution_count": 53,
   "id": "dae476d7-15cc-4601-b0d1-858c24e08dd2",
   "metadata": {},
   "outputs": [
    {
     "name": "stdout",
     "output_type": "stream",
     "text": [
      "<class 'pandas.core.frame.DataFrame'>\n",
      "RangeIndex: 150 entries, 0 to 149\n",
      "Data columns (total 6 columns):\n",
      " #   Column  Non-Null Count  Dtype  \n",
      "---  ------  --------------  -----  \n",
      " 0   x0      150 non-null    int64  \n",
      " 1   x1      150 non-null    float64\n",
      " 2   x2      150 non-null    float64\n",
      " 3   x3      150 non-null    float64\n",
      " 4   x4      150 non-null    float64\n",
      " 5   type    150 non-null    object \n",
      "dtypes: float64(4), int64(1), object(1)\n",
      "memory usage: 7.2+ KB\n"
     ]
    }
   ],
   "source": [
    "df.info()"
   ]
  },
  {
   "cell_type": "code",
   "execution_count": 54,
   "id": "f0e1fa35-6fe8-4884-ba6f-97455d897263",
   "metadata": {},
   "outputs": [
    {
     "data": {
      "text/plain": [
       "(150, 6)"
      ]
     },
     "execution_count": 54,
     "metadata": {},
     "output_type": "execute_result"
    }
   ],
   "source": [
    "df.shape"
   ]
  },
  {
   "cell_type": "code",
   "execution_count": 55,
   "id": "87db14f9-58fc-494b-b838-b7cc81d341c7",
   "metadata": {},
   "outputs": [
    {
     "data": {
      "text/html": [
       "<div>\n",
       "<style scoped>\n",
       "    .dataframe tbody tr th:only-of-type {\n",
       "        vertical-align: middle;\n",
       "    }\n",
       "\n",
       "    .dataframe tbody tr th {\n",
       "        vertical-align: top;\n",
       "    }\n",
       "\n",
       "    .dataframe thead th {\n",
       "        text-align: right;\n",
       "    }\n",
       "</style>\n",
       "<table border=\"1\" class=\"dataframe\">\n",
       "  <thead>\n",
       "    <tr style=\"text-align: right;\">\n",
       "      <th></th>\n",
       "      <th>x0</th>\n",
       "      <th>x1</th>\n",
       "      <th>x2</th>\n",
       "      <th>x3</th>\n",
       "      <th>x4</th>\n",
       "      <th>type</th>\n",
       "    </tr>\n",
       "  </thead>\n",
       "  <tbody>\n",
       "    <tr>\n",
       "      <th>0</th>\n",
       "      <td>False</td>\n",
       "      <td>False</td>\n",
       "      <td>False</td>\n",
       "      <td>False</td>\n",
       "      <td>False</td>\n",
       "      <td>False</td>\n",
       "    </tr>\n",
       "    <tr>\n",
       "      <th>1</th>\n",
       "      <td>False</td>\n",
       "      <td>False</td>\n",
       "      <td>False</td>\n",
       "      <td>False</td>\n",
       "      <td>False</td>\n",
       "      <td>False</td>\n",
       "    </tr>\n",
       "    <tr>\n",
       "      <th>2</th>\n",
       "      <td>False</td>\n",
       "      <td>False</td>\n",
       "      <td>False</td>\n",
       "      <td>False</td>\n",
       "      <td>False</td>\n",
       "      <td>False</td>\n",
       "    </tr>\n",
       "    <tr>\n",
       "      <th>3</th>\n",
       "      <td>False</td>\n",
       "      <td>False</td>\n",
       "      <td>False</td>\n",
       "      <td>False</td>\n",
       "      <td>False</td>\n",
       "      <td>False</td>\n",
       "    </tr>\n",
       "    <tr>\n",
       "      <th>4</th>\n",
       "      <td>False</td>\n",
       "      <td>False</td>\n",
       "      <td>False</td>\n",
       "      <td>False</td>\n",
       "      <td>False</td>\n",
       "      <td>False</td>\n",
       "    </tr>\n",
       "    <tr>\n",
       "      <th>...</th>\n",
       "      <td>...</td>\n",
       "      <td>...</td>\n",
       "      <td>...</td>\n",
       "      <td>...</td>\n",
       "      <td>...</td>\n",
       "      <td>...</td>\n",
       "    </tr>\n",
       "    <tr>\n",
       "      <th>145</th>\n",
       "      <td>False</td>\n",
       "      <td>False</td>\n",
       "      <td>False</td>\n",
       "      <td>False</td>\n",
       "      <td>False</td>\n",
       "      <td>False</td>\n",
       "    </tr>\n",
       "    <tr>\n",
       "      <th>146</th>\n",
       "      <td>False</td>\n",
       "      <td>False</td>\n",
       "      <td>False</td>\n",
       "      <td>False</td>\n",
       "      <td>False</td>\n",
       "      <td>False</td>\n",
       "    </tr>\n",
       "    <tr>\n",
       "      <th>147</th>\n",
       "      <td>False</td>\n",
       "      <td>False</td>\n",
       "      <td>False</td>\n",
       "      <td>False</td>\n",
       "      <td>False</td>\n",
       "      <td>False</td>\n",
       "    </tr>\n",
       "    <tr>\n",
       "      <th>148</th>\n",
       "      <td>False</td>\n",
       "      <td>False</td>\n",
       "      <td>False</td>\n",
       "      <td>False</td>\n",
       "      <td>False</td>\n",
       "      <td>False</td>\n",
       "    </tr>\n",
       "    <tr>\n",
       "      <th>149</th>\n",
       "      <td>False</td>\n",
       "      <td>False</td>\n",
       "      <td>False</td>\n",
       "      <td>False</td>\n",
       "      <td>False</td>\n",
       "      <td>False</td>\n",
       "    </tr>\n",
       "  </tbody>\n",
       "</table>\n",
       "<p>150 rows × 6 columns</p>\n",
       "</div>"
      ],
      "text/plain": [
       "        x0     x1     x2     x3     x4   type\n",
       "0    False  False  False  False  False  False\n",
       "1    False  False  False  False  False  False\n",
       "2    False  False  False  False  False  False\n",
       "3    False  False  False  False  False  False\n",
       "4    False  False  False  False  False  False\n",
       "..     ...    ...    ...    ...    ...    ...\n",
       "145  False  False  False  False  False  False\n",
       "146  False  False  False  False  False  False\n",
       "147  False  False  False  False  False  False\n",
       "148  False  False  False  False  False  False\n",
       "149  False  False  False  False  False  False\n",
       "\n",
       "[150 rows x 6 columns]"
      ]
     },
     "execution_count": 55,
     "metadata": {},
     "output_type": "execute_result"
    }
   ],
   "source": [
    "df.isnull()"
   ]
  },
  {
   "cell_type": "code",
   "execution_count": 56,
   "id": "3664d3c3-45a3-4412-8824-4a83a93abc0c",
   "metadata": {},
   "outputs": [
    {
     "data": {
      "text/html": [
       "<div>\n",
       "<style scoped>\n",
       "    .dataframe tbody tr th:only-of-type {\n",
       "        vertical-align: middle;\n",
       "    }\n",
       "\n",
       "    .dataframe tbody tr th {\n",
       "        vertical-align: top;\n",
       "    }\n",
       "\n",
       "    .dataframe thead th {\n",
       "        text-align: right;\n",
       "    }\n",
       "</style>\n",
       "<table border=\"1\" class=\"dataframe\">\n",
       "  <thead>\n",
       "    <tr style=\"text-align: right;\">\n",
       "      <th></th>\n",
       "      <th>x0</th>\n",
       "      <th>x1</th>\n",
       "      <th>x2</th>\n",
       "      <th>x3</th>\n",
       "      <th>x4</th>\n",
       "      <th>type</th>\n",
       "    </tr>\n",
       "  </thead>\n",
       "  <tbody>\n",
       "    <tr>\n",
       "      <th>0</th>\n",
       "      <td>1</td>\n",
       "      <td>5.1</td>\n",
       "      <td>3.5</td>\n",
       "      <td>1.4</td>\n",
       "      <td>0.2</td>\n",
       "      <td>Iris-setosa</td>\n",
       "    </tr>\n",
       "    <tr>\n",
       "      <th>1</th>\n",
       "      <td>1</td>\n",
       "      <td>4.9</td>\n",
       "      <td>3.0</td>\n",
       "      <td>1.4</td>\n",
       "      <td>0.2</td>\n",
       "      <td>Iris-setosa</td>\n",
       "    </tr>\n",
       "    <tr>\n",
       "      <th>2</th>\n",
       "      <td>1</td>\n",
       "      <td>4.7</td>\n",
       "      <td>3.2</td>\n",
       "      <td>1.3</td>\n",
       "      <td>0.2</td>\n",
       "      <td>Iris-setosa</td>\n",
       "    </tr>\n",
       "    <tr>\n",
       "      <th>3</th>\n",
       "      <td>1</td>\n",
       "      <td>4.6</td>\n",
       "      <td>3.1</td>\n",
       "      <td>1.5</td>\n",
       "      <td>0.2</td>\n",
       "      <td>Iris-setosa</td>\n",
       "    </tr>\n",
       "    <tr>\n",
       "      <th>4</th>\n",
       "      <td>1</td>\n",
       "      <td>5.0</td>\n",
       "      <td>3.6</td>\n",
       "      <td>1.4</td>\n",
       "      <td>0.2</td>\n",
       "      <td>Iris-setosa</td>\n",
       "    </tr>\n",
       "    <tr>\n",
       "      <th>5</th>\n",
       "      <td>1</td>\n",
       "      <td>5.4</td>\n",
       "      <td>3.9</td>\n",
       "      <td>1.7</td>\n",
       "      <td>0.4</td>\n",
       "      <td>Iris-setosa</td>\n",
       "    </tr>\n",
       "    <tr>\n",
       "      <th>6</th>\n",
       "      <td>1</td>\n",
       "      <td>4.6</td>\n",
       "      <td>3.4</td>\n",
       "      <td>1.4</td>\n",
       "      <td>0.3</td>\n",
       "      <td>Iris-setosa</td>\n",
       "    </tr>\n",
       "    <tr>\n",
       "      <th>7</th>\n",
       "      <td>1</td>\n",
       "      <td>5.0</td>\n",
       "      <td>3.4</td>\n",
       "      <td>1.5</td>\n",
       "      <td>0.2</td>\n",
       "      <td>Iris-setosa</td>\n",
       "    </tr>\n",
       "    <tr>\n",
       "      <th>8</th>\n",
       "      <td>1</td>\n",
       "      <td>4.4</td>\n",
       "      <td>2.9</td>\n",
       "      <td>1.4</td>\n",
       "      <td>0.2</td>\n",
       "      <td>Iris-setosa</td>\n",
       "    </tr>\n",
       "    <tr>\n",
       "      <th>9</th>\n",
       "      <td>1</td>\n",
       "      <td>4.9</td>\n",
       "      <td>3.1</td>\n",
       "      <td>1.5</td>\n",
       "      <td>0.1</td>\n",
       "      <td>Iris-setosa</td>\n",
       "    </tr>\n",
       "  </tbody>\n",
       "</table>\n",
       "</div>"
      ],
      "text/plain": [
       "   x0   x1   x2   x3   x4         type\n",
       "0   1  5.1  3.5  1.4  0.2  Iris-setosa\n",
       "1   1  4.9  3.0  1.4  0.2  Iris-setosa\n",
       "2   1  4.7  3.2  1.3  0.2  Iris-setosa\n",
       "3   1  4.6  3.1  1.5  0.2  Iris-setosa\n",
       "4   1  5.0  3.6  1.4  0.2  Iris-setosa\n",
       "5   1  5.4  3.9  1.7  0.4  Iris-setosa\n",
       "6   1  4.6  3.4  1.4  0.3  Iris-setosa\n",
       "7   1  5.0  3.4  1.5  0.2  Iris-setosa\n",
       "8   1  4.4  2.9  1.4  0.2  Iris-setosa\n",
       "9   1  4.9  3.1  1.5  0.1  Iris-setosa"
      ]
     },
     "execution_count": 56,
     "metadata": {},
     "output_type": "execute_result"
    }
   ],
   "source": [
    "df.head(10)"
   ]
  },
  {
   "cell_type": "code",
   "execution_count": 57,
   "id": "5860c0a0-32ad-4848-b216-2f8b79084204",
   "metadata": {},
   "outputs": [
    {
     "data": {
      "text/html": [
       "<div>\n",
       "<style scoped>\n",
       "    .dataframe tbody tr th:only-of-type {\n",
       "        vertical-align: middle;\n",
       "    }\n",
       "\n",
       "    .dataframe tbody tr th {\n",
       "        vertical-align: top;\n",
       "    }\n",
       "\n",
       "    .dataframe thead th {\n",
       "        text-align: right;\n",
       "    }\n",
       "</style>\n",
       "<table border=\"1\" class=\"dataframe\">\n",
       "  <thead>\n",
       "    <tr style=\"text-align: right;\">\n",
       "      <th></th>\n",
       "      <th>x0</th>\n",
       "      <th>x1</th>\n",
       "      <th>x2</th>\n",
       "      <th>x3</th>\n",
       "      <th>x4</th>\n",
       "    </tr>\n",
       "  </thead>\n",
       "  <tbody>\n",
       "    <tr>\n",
       "      <th>count</th>\n",
       "      <td>150.0</td>\n",
       "      <td>150.000000</td>\n",
       "      <td>150.000000</td>\n",
       "      <td>150.000000</td>\n",
       "      <td>150.000000</td>\n",
       "    </tr>\n",
       "    <tr>\n",
       "      <th>mean</th>\n",
       "      <td>1.0</td>\n",
       "      <td>5.843333</td>\n",
       "      <td>3.054000</td>\n",
       "      <td>3.758667</td>\n",
       "      <td>1.198667</td>\n",
       "    </tr>\n",
       "    <tr>\n",
       "      <th>std</th>\n",
       "      <td>0.0</td>\n",
       "      <td>0.828066</td>\n",
       "      <td>0.433594</td>\n",
       "      <td>1.764420</td>\n",
       "      <td>0.763161</td>\n",
       "    </tr>\n",
       "    <tr>\n",
       "      <th>min</th>\n",
       "      <td>1.0</td>\n",
       "      <td>4.300000</td>\n",
       "      <td>2.000000</td>\n",
       "      <td>1.000000</td>\n",
       "      <td>0.100000</td>\n",
       "    </tr>\n",
       "    <tr>\n",
       "      <th>25%</th>\n",
       "      <td>1.0</td>\n",
       "      <td>5.100000</td>\n",
       "      <td>2.800000</td>\n",
       "      <td>1.600000</td>\n",
       "      <td>0.300000</td>\n",
       "    </tr>\n",
       "    <tr>\n",
       "      <th>50%</th>\n",
       "      <td>1.0</td>\n",
       "      <td>5.800000</td>\n",
       "      <td>3.000000</td>\n",
       "      <td>4.350000</td>\n",
       "      <td>1.300000</td>\n",
       "    </tr>\n",
       "    <tr>\n",
       "      <th>75%</th>\n",
       "      <td>1.0</td>\n",
       "      <td>6.400000</td>\n",
       "      <td>3.300000</td>\n",
       "      <td>5.100000</td>\n",
       "      <td>1.800000</td>\n",
       "    </tr>\n",
       "    <tr>\n",
       "      <th>max</th>\n",
       "      <td>1.0</td>\n",
       "      <td>7.900000</td>\n",
       "      <td>4.400000</td>\n",
       "      <td>6.900000</td>\n",
       "      <td>2.500000</td>\n",
       "    </tr>\n",
       "  </tbody>\n",
       "</table>\n",
       "</div>"
      ],
      "text/plain": [
       "          x0          x1          x2          x3          x4\n",
       "count  150.0  150.000000  150.000000  150.000000  150.000000\n",
       "mean     1.0    5.843333    3.054000    3.758667    1.198667\n",
       "std      0.0    0.828066    0.433594    1.764420    0.763161\n",
       "min      1.0    4.300000    2.000000    1.000000    0.100000\n",
       "25%      1.0    5.100000    2.800000    1.600000    0.300000\n",
       "50%      1.0    5.800000    3.000000    4.350000    1.300000\n",
       "75%      1.0    6.400000    3.300000    5.100000    1.800000\n",
       "max      1.0    7.900000    4.400000    6.900000    2.500000"
      ]
     },
     "execution_count": 57,
     "metadata": {},
     "output_type": "execute_result"
    }
   ],
   "source": [
    "df.describe()"
   ]
  },
  {
   "cell_type": "code",
   "execution_count": 58,
   "id": "753b6d08-dfa4-46dd-b2d3-c8022dc7faa2",
   "metadata": {},
   "outputs": [
    {
     "data": {
      "text/html": [
       "<div>\n",
       "<style scoped>\n",
       "    .dataframe tbody tr th:only-of-type {\n",
       "        vertical-align: middle;\n",
       "    }\n",
       "\n",
       "    .dataframe tbody tr th {\n",
       "        vertical-align: top;\n",
       "    }\n",
       "\n",
       "    .dataframe thead th {\n",
       "        text-align: right;\n",
       "    }\n",
       "</style>\n",
       "<table border=\"1\" class=\"dataframe\">\n",
       "  <thead>\n",
       "    <tr style=\"text-align: right;\">\n",
       "      <th></th>\n",
       "      <th>type</th>\n",
       "    </tr>\n",
       "  </thead>\n",
       "  <tbody>\n",
       "    <tr>\n",
       "      <th>count</th>\n",
       "      <td>150</td>\n",
       "    </tr>\n",
       "    <tr>\n",
       "      <th>unique</th>\n",
       "      <td>3</td>\n",
       "    </tr>\n",
       "    <tr>\n",
       "      <th>top</th>\n",
       "      <td>Iris-setosa</td>\n",
       "    </tr>\n",
       "    <tr>\n",
       "      <th>freq</th>\n",
       "      <td>50</td>\n",
       "    </tr>\n",
       "  </tbody>\n",
       "</table>\n",
       "</div>"
      ],
      "text/plain": [
       "               type\n",
       "count           150\n",
       "unique            3\n",
       "top     Iris-setosa\n",
       "freq             50"
      ]
     },
     "execution_count": 58,
     "metadata": {},
     "output_type": "execute_result"
    }
   ],
   "source": [
    "all = df.describe(include=['object'])\n",
    "all"
   ]
  },
  {
   "cell_type": "code",
   "execution_count": 59,
   "id": "2f52b7e7-e65f-4ae1-a58f-3dafbdf2b27f",
   "metadata": {},
   "outputs": [
    {
     "data": {
      "text/html": [
       "<div>\n",
       "<style scoped>\n",
       "    .dataframe tbody tr th:only-of-type {\n",
       "        vertical-align: middle;\n",
       "    }\n",
       "\n",
       "    .dataframe tbody tr th {\n",
       "        vertical-align: top;\n",
       "    }\n",
       "\n",
       "    .dataframe thead th {\n",
       "        text-align: right;\n",
       "    }\n",
       "</style>\n",
       "<table border=\"1\" class=\"dataframe\">\n",
       "  <thead>\n",
       "    <tr style=\"text-align: right;\">\n",
       "      <th></th>\n",
       "      <th>x0</th>\n",
       "      <th>x1</th>\n",
       "      <th>x2</th>\n",
       "      <th>x3</th>\n",
       "      <th>x4</th>\n",
       "      <th>type</th>\n",
       "    </tr>\n",
       "  </thead>\n",
       "  <tbody>\n",
       "    <tr>\n",
       "      <th>count</th>\n",
       "      <td>150.0</td>\n",
       "      <td>150.000000</td>\n",
       "      <td>150.000000</td>\n",
       "      <td>150.000000</td>\n",
       "      <td>150.000000</td>\n",
       "      <td>150</td>\n",
       "    </tr>\n",
       "    <tr>\n",
       "      <th>unique</th>\n",
       "      <td>NaN</td>\n",
       "      <td>NaN</td>\n",
       "      <td>NaN</td>\n",
       "      <td>NaN</td>\n",
       "      <td>NaN</td>\n",
       "      <td>3</td>\n",
       "    </tr>\n",
       "    <tr>\n",
       "      <th>top</th>\n",
       "      <td>NaN</td>\n",
       "      <td>NaN</td>\n",
       "      <td>NaN</td>\n",
       "      <td>NaN</td>\n",
       "      <td>NaN</td>\n",
       "      <td>Iris-setosa</td>\n",
       "    </tr>\n",
       "    <tr>\n",
       "      <th>freq</th>\n",
       "      <td>NaN</td>\n",
       "      <td>NaN</td>\n",
       "      <td>NaN</td>\n",
       "      <td>NaN</td>\n",
       "      <td>NaN</td>\n",
       "      <td>50</td>\n",
       "    </tr>\n",
       "    <tr>\n",
       "      <th>mean</th>\n",
       "      <td>1.0</td>\n",
       "      <td>5.843333</td>\n",
       "      <td>3.054000</td>\n",
       "      <td>3.758667</td>\n",
       "      <td>1.198667</td>\n",
       "      <td>NaN</td>\n",
       "    </tr>\n",
       "    <tr>\n",
       "      <th>std</th>\n",
       "      <td>0.0</td>\n",
       "      <td>0.828066</td>\n",
       "      <td>0.433594</td>\n",
       "      <td>1.764420</td>\n",
       "      <td>0.763161</td>\n",
       "      <td>NaN</td>\n",
       "    </tr>\n",
       "    <tr>\n",
       "      <th>min</th>\n",
       "      <td>1.0</td>\n",
       "      <td>4.300000</td>\n",
       "      <td>2.000000</td>\n",
       "      <td>1.000000</td>\n",
       "      <td>0.100000</td>\n",
       "      <td>NaN</td>\n",
       "    </tr>\n",
       "    <tr>\n",
       "      <th>25%</th>\n",
       "      <td>1.0</td>\n",
       "      <td>5.100000</td>\n",
       "      <td>2.800000</td>\n",
       "      <td>1.600000</td>\n",
       "      <td>0.300000</td>\n",
       "      <td>NaN</td>\n",
       "    </tr>\n",
       "    <tr>\n",
       "      <th>50%</th>\n",
       "      <td>1.0</td>\n",
       "      <td>5.800000</td>\n",
       "      <td>3.000000</td>\n",
       "      <td>4.350000</td>\n",
       "      <td>1.300000</td>\n",
       "      <td>NaN</td>\n",
       "    </tr>\n",
       "    <tr>\n",
       "      <th>75%</th>\n",
       "      <td>1.0</td>\n",
       "      <td>6.400000</td>\n",
       "      <td>3.300000</td>\n",
       "      <td>5.100000</td>\n",
       "      <td>1.800000</td>\n",
       "      <td>NaN</td>\n",
       "    </tr>\n",
       "    <tr>\n",
       "      <th>max</th>\n",
       "      <td>1.0</td>\n",
       "      <td>7.900000</td>\n",
       "      <td>4.400000</td>\n",
       "      <td>6.900000</td>\n",
       "      <td>2.500000</td>\n",
       "      <td>NaN</td>\n",
       "    </tr>\n",
       "  </tbody>\n",
       "</table>\n",
       "</div>"
      ],
      "text/plain": [
       "           x0          x1          x2          x3          x4         type\n",
       "count   150.0  150.000000  150.000000  150.000000  150.000000          150\n",
       "unique    NaN         NaN         NaN         NaN         NaN            3\n",
       "top       NaN         NaN         NaN         NaN         NaN  Iris-setosa\n",
       "freq      NaN         NaN         NaN         NaN         NaN           50\n",
       "mean      1.0    5.843333    3.054000    3.758667    1.198667          NaN\n",
       "std       0.0    0.828066    0.433594    1.764420    0.763161          NaN\n",
       "min       1.0    4.300000    2.000000    1.000000    0.100000          NaN\n",
       "25%       1.0    5.100000    2.800000    1.600000    0.300000          NaN\n",
       "50%       1.0    5.800000    3.000000    4.350000    1.300000          NaN\n",
       "75%       1.0    6.400000    3.300000    5.100000    1.800000          NaN\n",
       "max       1.0    7.900000    4.400000    6.900000    2.500000          NaN"
      ]
     },
     "execution_count": 59,
     "metadata": {},
     "output_type": "execute_result"
    }
   ],
   "source": [
    "summary_stats = df.describe(include='all')\n",
    "summary_stats "
   ]
  },
  {
   "cell_type": "code",
   "execution_count": 60,
   "id": "e1498340-aa71-495f-9659-961ef515d87f",
   "metadata": {},
   "outputs": [
    {
     "name": "stdout",
     "output_type": "stream",
     "text": [
      "STASTICS ANALYSIS OF SEPAL LENGTH:\n",
      "Mean of x1 column: 5.843333333333334\n",
      "Median of x1 column: 5.8\n",
      "Mode of x1 column: 0    5.0\n",
      "Name: x1, dtype: float64\n"
     ]
    }
   ],
   "source": [
    "print(\"STASTICS ANALYSIS OF SEPAL LENGTH:\")\n",
    "mean_x1 = df['x1'].mean()\n",
    "print(\"Mean of x1 column:\",mean_x1)\n",
    "median_x1= df['x1'].median()\n",
    "print(\"Median of x1 column:\",median_x1)\n",
    "mode_x1= df['x1'].mode()\n",
    "print(\"Mode of x1 column:\",mode_x1)"
   ]
  },
  {
   "cell_type": "code",
   "execution_count": 61,
   "id": "ebde59fd-6fa9-4226-9a64-8b9777c68fe5",
   "metadata": {},
   "outputs": [
    {
     "name": "stdout",
     "output_type": "stream",
     "text": [
      "Histogram of Sepal Length column\n"
     ]
    },
    {
     "name": "stderr",
     "output_type": "stream",
     "text": [
      "C:\\Users\\Lenovo\\AppData\\Local\\Temp\\ipykernel_12424\\820271558.py:3: UserWarning: \n",
      "\n",
      "`distplot` is a deprecated function and will be removed in seaborn v0.14.0.\n",
      "\n",
      "Please adapt your code to use either `displot` (a figure-level function with\n",
      "similar flexibility) or `histplot` (an axes-level function for histograms).\n",
      "\n",
      "For a guide to updating your code to use the new functions, please see\n",
      "https://gist.github.com/mwaskom/de44147ed2974457ad6372750bbe5751\n",
      "\n",
      "  sns.distplot(data, bins=10, hist=True, kde=True, label='sepal length',color=\"red\")\n"
     ]
    },
    {
     "data": {
      "text/plain": [
       "<Axes: xlabel='x1', ylabel='Density'>"
      ]
     },
     "execution_count": 61,
     "metadata": {},
     "output_type": "execute_result"
    },
    {
     "data": {
      "image/png": "[encoded data removed]",
      "text/plain": [
       "<Figure size 640x480 with 1 Axes>"
      ]
     },
     "metadata": {},
     "output_type": "display_data"
    }
   ],
   "source": [
    "data = df['x1']\n",
    "print(\"Histogram of Sepal Length column\")\n",
    "sns.distplot(data, bins=10, hist=True, kde=True, label='sepal length',color=\"red\")"
   ]
  },
  {
   "cell_type": "code",
   "execution_count": 62,
   "id": "e13aca96-fe69-4e1d-a717-c5a4450c2cd3",
   "metadata": {},
   "outputs": [
    {
     "name": "stdout",
     "output_type": "stream",
     "text": [
      "Boxplot of sepal length\n"
     ]
    },
    {
     "data": {
      "image/png": "[encoded data removed]",
      "text/plain": [
       "<Figure size 640x480 with 1 Axes>"
      ]
     },
     "metadata": {},
     "output_type": "display_data"
    }
   ],
   "source": [
    "plt.boxplot(df['x1'])\n",
    "print(\"Boxplot of sepal length\")\n",
    "plt.show()"
   ]
  },
  {
   "cell_type": "code",
   "execution_count": 63,
   "id": "33bcae62-63ec-45d9-bdbe-d09206937bf1",
   "metadata": {},
   "outputs": [
    {
     "name": "stdout",
     "output_type": "stream",
     "text": [
      "Minimum value of x1 4.3\n",
      "Maximum value of x1 7.9\n",
      "Varience value of x1 0.6856935123042507\n",
      "Standard Deviation value of x1 0.828066127977863\n"
     ]
    }
   ],
   "source": [
    "print(\"Minimum value of x1\",df['x1'].min())\n",
    "print(\"Maximum value of x1\",df['x1'].max())\n",
    "print(\"Varience value of x1\",df['x1'].var())\n",
    "print(\"Standard Deviation value of x1\",df['x1'].std())"
   ]
  },
  {
   "cell_type": "code",
   "execution_count": 64,
   "id": "e6790393-8dd0-42c4-b03d-2406cc0b7003",
   "metadata": {},
   "outputs": [
    {
     "name": "stdout",
     "output_type": "stream",
     "text": [
      " 1st Quratile of x1: 5.1\n",
      " 2nd Quratile of x1: 5.8\n",
      " 3rd Quratile of x1: 6.4\n",
      " 4th Quratile of x1: 7.9\n"
     ]
    }
   ],
   "source": [
    "print(\" 1st Quratile of x1:\",df['x1'].quantile(0.25))\n",
    "print(\" 2nd Quratile of x1:\",df['x1'].quantile(0.50))\n",
    "print(\" 3rd Quratile of x1:\",df['x1'].quantile(0.75))\n",
    "print(\" 4th Quratile of x1:\",df['x1'].quantile(1.0))"
   ]
  },
  {
   "cell_type": "code",
   "execution_count": 65,
   "id": "addfd874-563f-4338-a416-88c304867a79",
   "metadata": {},
   "outputs": [
    {
     "name": "stdout",
     "output_type": "stream",
     "text": [
      "Sepal length skewness:\n"
     ]
    },
    {
     "data": {
      "text/plain": [
       "np.float64(0.3149109566369728)"
      ]
     },
     "execution_count": 65,
     "metadata": {},
     "output_type": "execute_result"
    }
   ],
   "source": [
    "print(\"Sepal length skewness:\")\n",
    "df['x1'].skew()"
   ]
  },
  {
   "cell_type": "markdown",
   "id": "1c21ea07-8cb8-4f5a-9e22-b3c19cb57618",
   "metadata": {},
   "source": [
    "Skewness = 0: Perfectly symmetrical distribution.\n",
    "Skewness > 0: Positive skew, with a longer right tail (data is concentrated on the left).\n",
    "Skewness < 0: Negative skew, with a longer left tail (data is concentrated on the right).\n",
    "hence sepal length is left skewed distribution.as the value is positive the sepal length is more concentrated to the left of distribution."
   ]
  },
  {
   "cell_type": "code",
   "execution_count": 66,
   "id": "7f6ef337-696f-4872-89eb-6167122d09c1",
   "metadata": {},
   "outputs": [
    {
     "name": "stdout",
     "output_type": "stream",
     "text": [
      "Sepal length kurtosis:\n"
     ]
    },
    {
     "data": {
      "text/plain": [
       "np.float64(-0.5520640413156395)"
      ]
     },
     "execution_count": 66,
     "metadata": {},
     "output_type": "execute_result"
    }
   ],
   "source": [
    "print(\"Sepal length kurtosis:\")\n",
    "df['x1'].kurt()"
   ]
  },
  {
   "cell_type": "markdown",
   "id": "39e92eec-397a-453e-82a6-d9927aa72fe5",
   "metadata": {},
   "source": [
    "Kurtosis measures the \"tailedness\" or how heavy/light the tails of the distribution are compared to a normal distribution:\n",
    "A kurtosis value of 3 indicates a normal distribution (called mesokurtic).\n",
    "Kurtosis > 3: Leptokurtic, meaning the distribution has heavier tails (more extreme values).\n",
    "Kurtosis < 3: Platykurtic, meaning the distribution has lighter tails (fewer extreme values).\n",
    "in this example sepal length kurtosis value shows Negative kurtosis -0.552 indicates that the distribution is somewhat flatter and more spread out, with fewer extreme values compared to a normal distribution."
   ]
  },
  {
   "cell_type": "code",
   "execution_count": 67,
   "id": "1bbc881c-e207-4e6e-86bf-2e391c3d10ef",
   "metadata": {},
   "outputs": [
    {
     "name": "stdout",
     "output_type": "stream",
     "text": [
      "STASTICS ANALYSIS OF SEPAL WIDTH:\n",
      "Mean of x2 column: 3.0540000000000003\n",
      "Median of x2 column: 3.0\n",
      "Mode of x2 column: 0    3.0\n",
      "Name: x2, dtype: float64\n"
     ]
    }
   ],
   "source": [
    "print(\"STASTICS ANALYSIS OF SEPAL WIDTH:\")\n",
    "mean_x2= df['x2'].mean()\n",
    "print(\"Mean of x2 column:\",mean_x2)\n",
    "median_x2= df['x2'].median()\n",
    "print(\"Median of x2 column:\",median_x2)\n",
    "mode_x2= df['x2'].mode()\n",
    "print(\"Mode of x2 column:\",mode_x2)"
   ]
  },
  {
   "cell_type": "code",
   "execution_count": 68,
   "id": "32643051-55d6-4dc8-b704-b6af3c89663a",
   "metadata": {},
   "outputs": [
    {
     "name": "stdout",
     "output_type": "stream",
     "text": [
      "Histogram of Sepal Width column\n"
     ]
    },
    {
     "name": "stderr",
     "output_type": "stream",
     "text": [
      "C:\\Users\\Lenovo\\AppData\\Local\\Temp\\ipykernel_12424\\2689952384.py:3: UserWarning: \n",
      "\n",
      "`distplot` is a deprecated function and will be removed in seaborn v0.14.0.\n",
      "\n",
      "Please adapt your code to use either `displot` (a figure-level function with\n",
      "similar flexibility) or `histplot` (an axes-level function for histograms).\n",
      "\n",
      "For a guide to updating your code to use the new functions, please see\n",
      "https://gist.github.com/mwaskom/de44147ed2974457ad6372750bbe5751\n",
      "\n",
      "  sns.distplot(data, bins=10, hist=True, kde=True, label='sepal width',color=\"grey\")\n"
     ]
    },
    {
     "data": {
      "text/plain": [
       "<Axes: xlabel='x2', ylabel='Density'>"
      ]
     },
     "execution_count": 68,
     "metadata": {},
     "output_type": "execute_result"
    },
    {
     "data": {
      "image/png": "[encoded data removed]",
      "text/plain": [
       "<Figure size 640x480 with 1 Axes>"
      ]
     },
     "metadata": {},
     "output_type": "display_data"
    }
   ],
   "source": [
    "data = df['x2']\n",
    "print(\"Histogram of Sepal Width column\")\n",
    "sns.distplot(data, bins=10, hist=True, kde=True, label='sepal width',color=\"grey\")"
   ]
  },
  {
   "cell_type": "code",
   "execution_count": 21,
   "id": "804836d6-a827-49f0-a05b-674924659257",
   "metadata": {},
   "outputs": [
    {
     "name": "stdout",
     "output_type": "stream",
     "text": [
      "Boxplot of Sepal Width\n"
     ]
    },
    {
     "data": {
      "image/png": "[encoded data removed]",
      "text/plain": [
       "<Figure size 640x480 with 1 Axes>"
      ]
     },
     "metadata": {},
     "output_type": "display_data"
    }
   ],
   "source": [
    "plt.boxplot(df['x2'])\n",
    "print(\"Boxplot of Sepal Width\")\n",
    "plt.show()"
   ]
  },
  {
   "cell_type": "code",
   "execution_count": 22,
   "id": "2dcd693e-8acc-4cfc-acc7-88521a5b77f4",
   "metadata": {},
   "outputs": [
    {
     "name": "stdout",
     "output_type": "stream",
     "text": [
      "SEPAL WIDTH:\n",
      "Minimum value of x2 2.0\n",
      "Maximum value of x2 4.4\n",
      "Varience value of x2 0.1880040268456376\n",
      "Standard Deviation value of x2 0.4335943113621737\n"
     ]
    }
   ],
   "source": [
    "print(\"SEPAL WIDTH:\")\n",
    "print(\"Minimum value of x2\",df['x2'].min())\n",
    "print(\"Maximum value of x2\",df['x2'].max())\n",
    "print(\"Varience value of x2\",df['x2'].var())\n",
    "print(\"Standard Deviation value of x2\",df['x2'].std())"
   ]
  },
  {
   "cell_type": "code",
   "execution_count": 50,
   "id": "7cc31066-fd11-45c0-8b0e-8a2d91eddb97",
   "metadata": {},
   "outputs": [
    {
     "name": "stdout",
     "output_type": "stream",
     "text": [
      " 1st Quratile of x1: 2.8\n",
      " 2nd Quratile of x1: 3.0\n",
      " 3rd Quratile of x1: 3.3\n",
      " 4th Quratile of x1: 4.4\n"
     ]
    }
   ],
   "source": [
    "print(\" 1st Quratile of x2:\",df['x2'].quantile(0.25))\n",
    "print(\" 2nd Quratile of x2:\",df['x2'].quantile(0.50))\n",
    "print(\" 3rd Quratile of x2:\",df['x2'].quantile(0.75))\n",
    "print(\" 4th Quratile of x2:\",df['x2'].quantile(1.0))"
   ]
  },
  {
   "cell_type": "code",
   "execution_count": 24,
   "id": "15ea0a20-c9ff-404c-a9f4-4f650abf491a",
   "metadata": {},
   "outputs": [
    {
     "name": "stdout",
     "output_type": "stream",
     "text": [
      "Sepal Width Skewness:\n"
     ]
    },
    {
     "data": {
      "text/plain": [
       "np.float64(0.3340526621720866)"
      ]
     },
     "execution_count": 24,
     "metadata": {},
     "output_type": "execute_result"
    }
   ],
   "source": [
    "print(\"Sepal Width Skewness:\")\n",
    "df['x2'].skew()"
   ]
  },
  {
   "cell_type": "markdown",
   "id": "2163758e-9755-4d3d-9cb9-e01916c1ff40",
   "metadata": {},
   "source": [
    "sepal width Skewness > 0 that is A positive skewness value which indicates that the distribution is right-skewed."
   ]
  },
  {
   "cell_type": "code",
   "execution_count": 25,
   "id": "61b2ff58-9e80-46e9-8c95-b9bed84f89ca",
   "metadata": {},
   "outputs": [
    {
     "name": "stdout",
     "output_type": "stream",
     "text": [
      "Sepal Width Kurtosis:\n"
     ]
    },
    {
     "data": {
      "text/plain": [
       "np.float64(0.2907810623654279)"
      ]
     },
     "execution_count": 25,
     "metadata": {},
     "output_type": "execute_result"
    }
   ],
   "source": [
    "print(\"Sepal Width Kurtosis:\")\n",
    "df['x2'].kurt()"
   ]
  },
  {
   "cell_type": "markdown",
   "id": "8088d71b-acc9-4c87-a11c-7639b1aa23db",
   "metadata": {},
   "source": [
    "since sepal width Kurtosis > 0 which indicates the distribution has slightly heavier tails than a normal distribution (but it’s still close to normal).\n",
    "Since this value is close to zero (0.29), the distribution is nearly normal but slightly leptokurtic. This suggests there may be a few more outliers than in a perfect normal distribution,."
   ]
  },
  {
   "cell_type": "code",
   "execution_count": 69,
   "id": "f6fe97f9-89dc-4dbc-a7bf-61627f444bc6",
   "metadata": {},
   "outputs": [
    {
     "name": "stdout",
     "output_type": "stream",
     "text": [
      "STASTICS ANALYSIS OF PETAL LENGTH:\n",
      "Mean of x3 column: 3.758666666666666\n",
      "Median of x3 column: 4.35\n",
      "Mode of x3 column: 0    1.5\n",
      "Name: x3, dtype: float64\n"
     ]
    }
   ],
   "source": [
    "print(\"STASTICS ANALYSIS OF PETAL LENGTH:\")\n",
    "mean_x3= df['x3'].mean()\n",
    "print(\"Mean of x3 column:\",mean_x3)\n",
    "median_x3= df['x3'].median()\n",
    "print(\"Median of x3 column:\",median_x3)\n",
    "mode_x3= df['x3'].mode()\n",
    "print(\"Mode of x3 column:\",mode_x3)"
   ]
  },
  {
   "cell_type": "code",
   "execution_count": 70,
   "id": "bcc7fd65-b3d1-4499-8368-11c810543410",
   "metadata": {},
   "outputs": [
    {
     "name": "stdout",
     "output_type": "stream",
     "text": [
      "Histogram of PETAL LENGTH column\n"
     ]
    },
    {
     "name": "stderr",
     "output_type": "stream",
     "text": [
      "C:\\Users\\Lenovo\\AppData\\Local\\Temp\\ipykernel_12424\\2790972656.py:3: UserWarning: \n",
      "\n",
      "`distplot` is a deprecated function and will be removed in seaborn v0.14.0.\n",
      "\n",
      "Please adapt your code to use either `displot` (a figure-level function with\n",
      "similar flexibility) or `histplot` (an axes-level function for histograms).\n",
      "\n",
      "For a guide to updating your code to use the new functions, please see\n",
      "https://gist.github.com/mwaskom/de44147ed2974457ad6372750bbe5751\n",
      "\n",
      "  sns.distplot(data, bins=10, hist=True, kde=True, label='petal length',color=\"blue\")\n"
     ]
    },
    {
     "data": {
      "text/plain": [
       "<Axes: xlabel='x3', ylabel='Density'>"
      ]
     },
     "execution_count": 70,
     "metadata": {},
     "output_type": "execute_result"
    },
    {
     "data": {
      "image/png": "[encoded data removed]",
      "text/plain": [
       "<Figure size 640x480 with 1 Axes>"
      ]
     },
     "metadata": {},
     "output_type": "display_data"
    }
   ],
   "source": [
    "data = df['x3']\n",
    "print(\"Histogram of PETAL LENGTH column\")\n",
    "sns.distplot(data, bins=10, hist=True, kde=True, label='petal length',color=\"blue\")"
   ]
  },
  {
   "cell_type": "code",
   "execution_count": 71,
   "id": "086e6581-1cda-46b7-8a25-88a3ffc4200d",
   "metadata": {},
   "outputs": [
    {
     "name": "stdout",
     "output_type": "stream",
     "text": [
      "PETAL LENGTH:\n",
      "Minimum value of x3 1.0\n",
      "Maximum value of x3 6.9\n",
      "Varience value of x3 3.113179418344519\n",
      "Standard Deviation value of x3 1.7644204199522626\n"
     ]
    }
   ],
   "source": [
    "print(\"PETAL LENGTH:\")\n",
    "print(\"Minimum value of x3\",df['x3'].min())\n",
    "print(\"Maximum value of x3\",df['x3'].max())\n",
    "print(\"Varience value of x3\",df['x3'].var())\n",
    "print(\"Standard Deviation value of x3\",df['x3'].std())"
   ]
  },
  {
   "cell_type": "code",
   "execution_count": 72,
   "id": "fc965881-4466-4832-a232-b69e8c9ddb7d",
   "metadata": {},
   "outputs": [
    {
     "name": "stdout",
     "output_type": "stream",
     "text": [
      "Boxplot of Petal length:\n"
     ]
    },
    {
     "data": {
      "image/png": "[encoded data removed]",
      "text/plain": [
       "<Figure size 640x480 with 1 Axes>"
      ]
     },
     "metadata": {},
     "output_type": "display_data"
    }
   ],
   "source": [
    "plt.boxplot(df['x3'])\n",
    "print(\"Boxplot of Petal length:\")\n",
    "plt.show()"
   ]
  },
  {
   "cell_type": "code",
   "execution_count": 59,
   "id": "eac0e7aa-f1ca-4cf8-aceb-380da7dcfc76",
   "metadata": {},
   "outputs": [
    {
     "name": "stdout",
     "output_type": "stream",
     "text": [
      " 1st Quratile of x3: 1.6\n",
      " 2nd Quratile of x3: 4.35\n",
      " 3rd Quratile of x3: 5.1\n",
      " 4th Quratile of x3: 6.9\n"
     ]
    }
   ],
   "source": [
    "print(\" 1st Quratile of x3:\",df['x3'].quantile(0.25))\n",
    "print(\" 2nd Quratile of x3:\",df['x3'].quantile(0.50))\n",
    "print(\" 3rd Quratile of x3:\",df['x3'].quantile(0.75))\n",
    "print(\" 4th Quratile of x3:\",df['x3'].quantile(1.0))"
   ]
  },
  {
   "cell_type": "code",
   "execution_count": 33,
   "id": "ce9588c2-e586-4a80-a68d-b9361792ba42",
   "metadata": {},
   "outputs": [
    {
     "name": "stdout",
     "output_type": "stream",
     "text": [
      "Petal length skewness:\n"
     ]
    },
    {
     "data": {
      "text/plain": [
       "np.float64(-0.27446425247378287)"
      ]
     },
     "execution_count": 33,
     "metadata": {},
     "output_type": "execute_result"
    }
   ],
   "source": [
    "print(\"Petal length skewness:\")\n",
    "df['x3'].skew()"
   ]
  },
  {
   "cell_type": "markdown",
   "id": "7be9e0e6-d695-4442-96ac-e1837d22248f",
   "metadata": {},
   "source": [
    "since petal lengtn Skewness < 0 and A negative skewness value indicates that the distribution is left-skewed.\n",
    "This means the left tail is longer, and the bulk of the values are concentrated on the right side of the distribution (i.e., more larger values, with a few smaller outliers)."
   ]
  },
  {
   "cell_type": "code",
   "execution_count": 34,
   "id": "10bc4b57-fd55-48c8-aa44-739d6327d141",
   "metadata": {},
   "outputs": [
    {
     "name": "stdout",
     "output_type": "stream",
     "text": [
      "Petal length kurtosis\n"
     ]
    },
    {
     "data": {
      "text/plain": [
       "np.float64(-1.4019208006454036)"
      ]
     },
     "execution_count": 34,
     "metadata": {},
     "output_type": "execute_result"
    }
   ],
   "source": [
    "print(\"Petal length kurtosis\");\n",
    "df['x3'].kurt()"
   ]
  },
  {
   "cell_type": "markdown",
   "id": "ee2bde15-14cf-4595-96a2-fe5b27bc27fa",
   "metadata": {},
   "source": [
    "since petal length Kurtosis < 0: and  A negative kurtosis value indicates that the distribution is platykurtic.the petal length distribution has a flatter shape with fewer extreme values or outliers compared to a normal distribution. This suggests that the data is more uniformly distributed around the mean, with fewer extreme deviations."
   ]
  },
  {
   "cell_type": "code",
   "execution_count": 73,
   "id": "72c06ef3-206b-484f-b95d-118185d6f2ed",
   "metadata": {},
   "outputs": [
    {
     "name": "stdout",
     "output_type": "stream",
     "text": [
      "STASTICS ANALYSIS OF PETAL WIDTH:\n",
      "Mean of x4 column: 1.1986666666666668\n",
      "Median of x4 column: 1.3\n",
      "Mode of x4 column: 0    0.2\n",
      "Name: x4, dtype: float64\n"
     ]
    }
   ],
   "source": [
    "print(\"STASTICS ANALYSIS OF PETAL WIDTH:\")\n",
    "mean_x4= df['x4'].mean()\n",
    "print(\"Mean of x4 column:\",mean_x4)\n",
    "median_x4= df['x4'].median()\n",
    "print(\"Median of x4 column:\",median_x4)\n",
    "mode_x4= df['x4'].mode()\n",
    "print(\"Mode of x4 column:\",mode_x4)"
   ]
  },
  {
   "cell_type": "code",
   "execution_count": 36,
   "id": "afebed40-e772-4f64-a9df-6d48769913f6",
   "metadata": {},
   "outputs": [
    {
     "name": "stdout",
     "output_type": "stream",
     "text": [
      "Histogram of petal width column\n"
     ]
    },
    {
     "name": "stderr",
     "output_type": "stream",
     "text": [
      "C:\\Users\\Lenovo\\AppData\\Local\\Temp\\ipykernel_12424\\2925694239.py:3: UserWarning: \n",
      "\n",
      "`distplot` is a deprecated function and will be removed in seaborn v0.14.0.\n",
      "\n",
      "Please adapt your code to use either `displot` (a figure-level function with\n",
      "similar flexibility) or `histplot` (an axes-level function for histograms).\n",
      "\n",
      "For a guide to updating your code to use the new functions, please see\n",
      "https://gist.github.com/mwaskom/de44147ed2974457ad6372750bbe5751\n",
      "\n",
      "  sns.distplot(data, bins=10, hist=True, kde=True, label='sepal length',color=\"pink\")\n"
     ]
    },
    {
     "data": {
      "text/plain": [
       "<Axes: xlabel='x4', ylabel='Density'>"
      ]
     },
     "execution_count": 36,
     "metadata": {},
     "output_type": "execute_result"
    },
    {
     "data": {
      "image/png": "[encoded data removed]",
      "text/plain": [
       "<Figure size 640x480 with 1 Axes>"
      ]
     },
     "metadata": {},
     "output_type": "display_data"
    }
   ],
   "source": [
    "data = df['x4']\n",
    "print(\"Histogram of petal width column\")\n",
    "sns.distplot(data, bins=10, hist=True, kde=True, label='sepal length',color=\"pink\")"
   ]
  },
  {
   "cell_type": "code",
   "execution_count": 37,
   "id": "0383517c-e506-42f3-82d0-8d696bc604b5",
   "metadata": {},
   "outputs": [
    {
     "name": "stdout",
     "output_type": "stream",
     "text": [
      "Boxplot of petal width\n"
     ]
    },
    {
     "data": {
      "image/png": "[encoded data removed]",
      "text/plain": [
       "<Figure size 640x480 with 1 Axes>"
      ]
     },
     "metadata": {},
     "output_type": "display_data"
    }
   ],
   "source": [
    "plt.boxplot(df['x4'])\n",
    "print(\"Boxplot of petal width\")\n",
    "plt.show()"
   ]
  },
  {
   "cell_type": "code",
   "execution_count": 74,
   "id": "b8bf106a-8daa-4228-874f-66c329c3b738",
   "metadata": {},
   "outputs": [
    {
     "name": "stdout",
     "output_type": "stream",
     "text": [
      "PETAL WIDTH\n",
      "Minimum value of x4 0.1\n",
      "Maximum value of x4 2.5\n",
      "Varience value of x4 0.582414317673378\n",
      "Standard Deviation value of x4 0.7631607417008411\n"
     ]
    }
   ],
   "source": [
    "print(\"PETAL WIDTH\")\n",
    "print(\"Minimum value of x4\",df['x4'].min())\n",
    "print(\"Maximum value of x4\",df['x4'].max())\n",
    "print(\"Varience value of x4\",df['x4'].var())\n",
    "print(\"Standard Deviation value of x4\",df['x4'].std())"
   ]
  },
  {
   "cell_type": "code",
   "execution_count": 39,
   "id": "7e232b24-76eb-4918-a047-f76fe964a27b",
   "metadata": {},
   "outputs": [
    {
     "name": "stdout",
     "output_type": "stream",
     "text": [
      " 1st Quratile of x4 0.3\n",
      " 2nd Quratile of x4: 1.3\n",
      " 3rd Quratile of x4: 1.8\n",
      " 4th Quratile of x4: 2.5\n"
     ]
    }
   ],
   "source": [
    "print(\" 1st Quratile of x4\",df['x4'].quantile(0.25))\n",
    "print(\" 2nd Quratile of x4:\",df['x4'].quantile(0.50))\n",
    "print(\" 3rd Quratile of x4:\",df['x4'].quantile(0.75))\n",
    "print(\" 4th Quratile of x4:\",df['x4'].quantile(1.0))"
   ]
  },
  {
   "cell_type": "code",
   "execution_count": 76,
   "id": "62681d8e-a582-4755-beec-1aaeb94f0ed7",
   "metadata": {},
   "outputs": [
    {
     "name": "stdout",
     "output_type": "stream",
     "text": [
      "Petal Width Skewness:\n"
     ]
    },
    {
     "data": {
      "text/plain": [
       "np.float64(-0.10499656214412734)"
      ]
     },
     "execution_count": 76,
     "metadata": {},
     "output_type": "execute_result"
    }
   ],
   "source": [
    "print(\"Petal Width Skewness:\")\n",
    "df['x4'].skew()"
   ]
  },
  {
   "cell_type": "markdown",
   "id": "49040aeb-463c-4f18-a582-d889e093b1d4",
   "metadata": {},
   "source": [
    "since the petal width skewness is negative,This means the distribution has a longer tail on the left side, and the bulk of the data is concentrated on the right side of the distribution (i.e., more larger values)."
   ]
  },
  {
   "cell_type": "code",
   "execution_count": 77,
   "id": "d86aebae-5618-4bea-b3d5-2ef3710f0859",
   "metadata": {},
   "outputs": [
    {
     "name": "stdout",
     "output_type": "stream",
     "text": [
      "Petal Width Kurtosis:\n"
     ]
    },
    {
     "data": {
      "text/plain": [
       "np.float64(-1.3397541711393433)"
      ]
     },
     "execution_count": 77,
     "metadata": {},
     "output_type": "execute_result"
    }
   ],
   "source": [
    "print(\"Petal Width Kurtosis:\")\n",
    "df['x4'].kurt()"
   ]
  },
  {
   "cell_type": "markdown",
   "id": "b6e98ef1-41a7-4249-b2ea-8509a8c129cc",
   "metadata": {},
   "source": [
    "since petal width Kurtosis < 3,indicates that the distribution is platykurtic.This means the distribution has lighter tails and is flatter compared to a normal distribution. the sepal width distribution in the Iris dataset is flatter and has fewer extreme values than a normal distribution, meaning it is more evenly spread around the mean with fewer outliers."
   ]
  },
  {
   "cell_type": "code",
   "execution_count": 49,
   "id": "e91ef05a-3bdc-47ef-889f-6ad17ec8058a",
   "metadata": {},
   "outputs": [
    {
     "name": "stdout",
     "output_type": "stream",
     "text": [
      "SCATTER PLOT BETWEEN SEPAL LENGTH AND SEPAL WIDTH:\n"
     ]
    },
    {
     "name": "stderr",
     "output_type": "stream",
     "text": [
      "C:\\Users\\Lenovo\\AppData\\Local\\Temp\\ipykernel_12424\\2178009643.py:3: UserWarning: No data for colormapping provided via 'c'. Parameters 'cmap' will be ignored\n",
      "  scatter = plt.scatter(df['x1'], df['x2'],cmap='viridis')\n"
     ]
    },
    {
     "data": {
      "text/plain": [
       "Text(0, 0.5, 'Sepal Width (cm)')"
      ]
     },
     "execution_count": 49,
     "metadata": {},
     "output_type": "execute_result"
    },
    {
     "data": {
      "image/png": "[encoded data removed]",
      "text/plain": [
       "<Figure size 800x600 with 1 Axes>"
      ]
     },
     "metadata": {},
     "output_type": "display_data"
    }
   ],
   "source": [
    "print(\"SCATTER PLOT BETWEEN SEPAL LENGTH AND SEPAL WIDTH:\")\n",
    "plt.figure(figsize=(8, 6))\n",
    "scatter = plt.scatter(df['x1'], df['x2'],cmap='viridis')\n",
    "plt.title('Scatter Plot Between Sepal Length and Sepal Width')\n",
    "plt.xlabel('Sepal Length (cm)')\n",
    "plt.ylabel('Sepal Width (cm)')"
   ]
  },
  {
   "cell_type": "code",
   "execution_count": 50,
   "id": "d8f02033-4dcd-405c-a85d-c81664d72275",
   "metadata": {},
   "outputs": [
    {
     "name": "stdout",
     "output_type": "stream",
     "text": [
      "SCATTER PLOT BETWEEN PETAL LENGTH AND PETAL WIDTH:\n"
     ]
    },
    {
     "name": "stderr",
     "output_type": "stream",
     "text": [
      "C:\\Users\\Lenovo\\AppData\\Local\\Temp\\ipykernel_12424\\1266460862.py:3: UserWarning: No data for colormapping provided via 'c'. Parameters 'cmap' will be ignored\n",
      "  scatter = plt.scatter(df['x3'], df['x4'],cmap='viridis')\n"
     ]
    },
    {
     "data": {
      "text/plain": [
       "Text(0, 0.5, 'Petal Width (cm)')"
      ]
     },
     "execution_count": 50,
     "metadata": {},
     "output_type": "execute_result"
    },
    {
     "data": {
      "image/png": "[encoded data removed]",
      "text/plain": [
       "<Figure size 800x600 with 1 Axes>"
      ]
     },
     "metadata": {},
     "output_type": "display_data"
    }
   ],
   "source": [
    "print(\"SCATTER PLOT BETWEEN PETAL LENGTH AND PETAL WIDTH:\")\n",
    "plt.figure(figsize=(8, 6))\n",
    "scatter = plt.scatter(df['x3'], df['x4'],cmap='viridis')\n",
    "plt.title('Scatter Plot Between Petal Length and Petal Width')\n",
    "plt.xlabel('Petal Length (cm)')\n",
    "plt.ylabel('Petal Width (cm)')"
   ]
  },
  {
   "cell_type": "code",
   "execution_count": null,
   "id": "20e10a1d-1566-4812-8399-8a011028dce1",
   "metadata": {},
   "outputs": [],
   "source": []
  }
 ],
 "metadata": {
  "kernelspec": {
   "display_name": "Python 3 (ipykernel)",
   "language": "python",
   "name": "python3"
  },
  "language_info": {
   "codemirror_mode": {
    "name": "ipython",
    "version": 3
   },
   "file_extension": ".py",
   "mimetype": "text/x-python",
   "name": "python",
   "nbconvert_exporter": "python",
   "pygments_lexer": "ipython3",
   "version": "3.10.7"
  }
 },
 "nbformat": 4,
 "nbformat_minor": 5
}
